{
 "cells": [
  {
   "cell_type": "code",
   "execution_count": null,
   "id": "d55ff0aa-4d7d-4059-a853-7b8a12af7b82",
   "metadata": {},
   "outputs": [],
   "source": [
    "%load_ext autoreload\n",
    "%autoreload 2\n",
    "# %load_ext autotime|"
   ]
  },
  {
   "cell_type": "markdown",
   "id": "d0f3a608-c55b-4a20-aa2d-e36f6a41e78b",
   "metadata": {},
   "source": [
    "## This is the first phase of manual corrections on instruct_qa\n"
   ]
  },
  {
   "cell_type": "code",
   "execution_count": 13,
   "id": "eca36c04-95ad-4290-a387-717ccc557136",
   "metadata": {},
   "outputs": [],
   "source": [
    "negatives_to_positives = {\n",
    "    \"alpaca-7b\": [200, 1258, 1376, 1764, 2934, 3187, 3485, 3547, 3579], \n",
    "    \"flan-t5-xxl\": [3074, 3366, 156, 2789], \n",
    "    \"gpt-3.5-turbo\": [1021, 1147, 3510],\n",
    "    \"llama-2-7b-chat\": [701, 1258, 1937, 2096, 2895, 2934, 3485]\n",
    "}"
   ]
  },
  {
   "cell_type": "code",
   "execution_count": 14,
   "id": "55095c9a-a8c8-46f1-8409-0eee656a99af",
   "metadata": {},
   "outputs": [],
   "source": [
    "positives_to_negatives = {\n",
    "    \"alpaca-7b\": [441, 1147, 1290, 3045, 3366], \n",
    "    \"flan-t5-xxl\": [640, 1932, 2087, 3407, 3566], \n",
    "    \"gpt-3.5-turbo\": [335, 441, 468, 513, 732, 1258, 1290, 2087, 2292, 2416, 2690, 3045, 3321, 3366, 3433, 3566, 3579],\n",
    "    \"llama-2-7b-chat\": [335, 2532, 2988, 3045, 3566, 3579]\n",
    "}"
   ]
  },
  {
   "cell_type": "code",
   "execution_count": 15,
   "id": "744ebfc3-18c7-4aec-9165-742493047c4b",
   "metadata": {},
   "outputs": [],
   "source": [
    "total = 0 \n",
    "\n",
    "for index, value in negatives_to_positives.items(): \n",
    "    total+=len(value)\n",
    "    \n",
    "for index, value in positives_to_negatives.items(): \n",
    "    total+=len(value)"
   ]
  },
  {
   "cell_type": "code",
   "execution_count": 17,
   "id": "a19a2a46-dec1-4023-b8d2-e18b369ddaa4",
   "metadata": {},
   "outputs": [],
   "source": [
    "import numpy as np \n",
    "import pandas as pd "
   ]
  },
  {
   "cell_type": "code",
   "execution_count": 18,
   "id": "ede1a0eb-dcad-4380-be3a-50c49cab19d3",
   "metadata": {},
   "outputs": [
    {
     "data": {
      "text/html": [
       "<div>\n",
       "<style scoped>\n",
       "    .dataframe tbody tr th:only-of-type {\n",
       "        vertical-align: middle;\n",
       "    }\n",
       "\n",
       "    .dataframe tbody tr th {\n",
       "        vertical-align: top;\n",
       "    }\n",
       "\n",
       "    .dataframe thead th {\n",
       "        text-align: right;\n",
       "    }\n",
       "</style>\n",
       "<table border=\"1\" class=\"dataframe\">\n",
       "  <thead>\n",
       "    <tr style=\"text-align: right;\">\n",
       "      <th></th>\n",
       "      <th>id</th>\n",
       "      <th>model_name</th>\n",
       "      <th>dataset</th>\n",
       "      <th>question</th>\n",
       "      <th>answer</th>\n",
       "      <th>ground_truth</th>\n",
       "      <th>prompt</th>\n",
       "      <th>human_verdict</th>\n",
       "    </tr>\n",
       "  </thead>\n",
       "  <tbody>\n",
       "    <tr>\n",
       "      <th>0</th>\n",
       "      <td>68</td>\n",
       "      <td>alpaca-7b</td>\n",
       "      <td>hotpot_qa</td>\n",
       "      <td>who is the younger brother of The episode gues...</td>\n",
       "      <td>Brian Doyle-Murray is the younger brother of t...</td>\n",
       "      <td>Bill Murray</td>\n",
       "      <td>Please answer the following question given the...</td>\n",
       "      <td>incorrect</td>\n",
       "    </tr>\n",
       "    <tr>\n",
       "      <th>1</th>\n",
       "      <td>263</td>\n",
       "      <td>alpaca-7b</td>\n",
       "      <td>hotpot_qa</td>\n",
       "      <td>Which character does this protagonist, who sec...</td>\n",
       "      <td>Romeo.</td>\n",
       "      <td>Tybalt</td>\n",
       "      <td>Please answer the following question given the...</td>\n",
       "      <td>incorrect</td>\n",
       "    </tr>\n",
       "    <tr>\n",
       "      <th>2</th>\n",
       "      <td>279</td>\n",
       "      <td>alpaca-7b</td>\n",
       "      <td>hotpot_qa</td>\n",
       "      <td>What type of magazine is Eugene Habecker the c...</td>\n",
       "      <td>Christianity Today magazine.</td>\n",
       "      <td>evangelical Christian periodical</td>\n",
       "      <td>Please answer the following question given the...</td>\n",
       "      <td>incorrect</td>\n",
       "    </tr>\n",
       "    <tr>\n",
       "      <th>3</th>\n",
       "      <td>317</td>\n",
       "      <td>alpaca-7b</td>\n",
       "      <td>hotpot_qa</td>\n",
       "      <td>What Kentucky county has a population of 60,31...</td>\n",
       "      <td>Oldham County.</td>\n",
       "      <td>Oldham County</td>\n",
       "      <td>Please answer the following question given the...</td>\n",
       "      <td>correct</td>\n",
       "    </tr>\n",
       "    <tr>\n",
       "      <th>4</th>\n",
       "      <td>335</td>\n",
       "      <td>alpaca-7b</td>\n",
       "      <td>hotpot_qa</td>\n",
       "      <td>Mamie Gummer played the role of Nancy Crozier ...</td>\n",
       "      <td>The Good Wife (CBS)</td>\n",
       "      <td>CBS</td>\n",
       "      <td>Please answer the following question given the...</td>\n",
       "      <td>correct</td>\n",
       "    </tr>\n",
       "  </tbody>\n",
       "</table>\n",
       "</div>"
      ],
      "text/plain": [
       "    id model_name    dataset  \\\n",
       "0   68  alpaca-7b  hotpot_qa   \n",
       "1  263  alpaca-7b  hotpot_qa   \n",
       "2  279  alpaca-7b  hotpot_qa   \n",
       "3  317  alpaca-7b  hotpot_qa   \n",
       "4  335  alpaca-7b  hotpot_qa   \n",
       "\n",
       "                                            question  \\\n",
       "0  who is the younger brother of The episode gues...   \n",
       "1  Which character does this protagonist, who sec...   \n",
       "2  What type of magazine is Eugene Habecker the c...   \n",
       "3  What Kentucky county has a population of 60,31...   \n",
       "4  Mamie Gummer played the role of Nancy Crozier ...   \n",
       "\n",
       "                                              answer  \\\n",
       "0  Brian Doyle-Murray is the younger brother of t...   \n",
       "1                                             Romeo.   \n",
       "2                       Christianity Today magazine.   \n",
       "3                                     Oldham County.   \n",
       "4                                The Good Wife (CBS)   \n",
       "\n",
       "                       ground_truth  \\\n",
       "0                       Bill Murray   \n",
       "1                            Tybalt   \n",
       "2  evangelical Christian periodical   \n",
       "3                     Oldham County   \n",
       "4                               CBS   \n",
       "\n",
       "                                              prompt human_verdict  \n",
       "0  Please answer the following question given the...     incorrect  \n",
       "1  Please answer the following question given the...     incorrect  \n",
       "2  Please answer the following question given the...     incorrect  \n",
       "3  Please answer the following question given the...       correct  \n",
       "4  Please answer the following question given the...       correct  "
      ]
     },
     "execution_count": 18,
     "metadata": {},
     "output_type": "execute_result"
    }
   ],
   "source": [
    "df = pd.read_csv('instruct_qa_full.csv')\n",
    "df.head()"
   ]
  },
  {
   "cell_type": "code",
   "execution_count": null,
   "id": "bb0401d2-0862-4deb-b401-688a08cf6720",
   "metadata": {},
   "outputs": [],
   "source": [
    "df['model_name'].value_counts()"
   ]
  },
  {
   "cell_type": "code",
   "execution_count": 20,
   "id": "7bef5f1c-f952-4d14-8fe9-fc394fd52068",
   "metadata": {},
   "outputs": [],
   "source": [
    "df = df[df['dataset'] == 'natural_questions']"
   ]
  },
  {
   "cell_type": "code",
   "execution_count": null,
   "id": "ba6617d5-411a-407e-b186-89000e46d9e4",
   "metadata": {},
   "outputs": [],
   "source": [
    "df['human_verdict'].value_counts()"
   ]
  },
  {
   "cell_type": "code",
   "execution_count": 23,
   "id": "5916fa41-3ae6-417d-96d7-30c528ae6ade",
   "metadata": {},
   "outputs": [],
   "source": [
    "df['human_verdict'] = df['human_verdict'].apply(lambda x: 'incorrect' if x =='refuse-to-answer' else x) "
   ]
  },
  {
   "cell_type": "code",
   "execution_count": null,
   "id": "35f224e7-0789-46eb-8c8d-f6d13a8262ce",
   "metadata": {},
   "outputs": [],
   "source": [
    "df['human_verdict'].value_counts()"
   ]
  },
  {
   "cell_type": "code",
   "execution_count": null,
   "id": "a890af00-31f9-4b94-b5ba-ffaa84948278",
   "metadata": {},
   "outputs": [],
   "source": [
    "counter = 0 \n",
    "for key, ids in negatives_to_positives.items(): \n",
    "    for value in ids:\n",
    "        condition = (df['id'] == value) & (df['model_name'] == key)\n",
    "        # print('yes')\n",
    "        counter+=1\n",
    "        \n",
    "        # print(len(df[condition]), value, key)\n",
    "        \n",
    "        df.loc[condition, 'human_verdict'] = 'correct'\n",
    "print(counter)"
   ]
  },
  {
   "cell_type": "code",
   "execution_count": null,
   "id": "4450951d-04e2-4e55-93a2-5771beb818ac",
   "metadata": {},
   "outputs": [],
   "source": [
    "\n",
    "counter = 0\n",
    "for key, ids in positives_to_negatives.items(): \n",
    "    for value in ids:\n",
    "        condition = (df['id'] == value) & (df['model_name'] == key)\n",
    "        # print('yes')\n",
    "        \n",
    "        # print(len(df[condition]))\n",
    "        \n",
    "        counter+=1\n",
    "        df.loc[condition, 'human_verdict'] = 'incorrect'\n",
    "        \n",
    "print(counter)"
   ]
  },
  {
   "cell_type": "code",
   "execution_count": null,
   "id": "34043245-3187-4578-adb1-1abf5b229136",
   "metadata": {},
   "outputs": [],
   "source": [
    "df['human_verdict'].value_counts()"
   ]
  },
  {
   "cell_type": "code",
   "execution_count": 28,
   "id": "abc424e5-04b3-492e-bd2d-dbf32438d25d",
   "metadata": {},
   "outputs": [],
   "source": [
    "df.to_csv('instruct_qa_natural_questions_corrected.csv', index=False)"
   ]
  },
  {
   "cell_type": "code",
   "execution_count": null,
   "id": "5d672561-42cd-4c77-95f3-023af61fd23c",
   "metadata": {},
   "outputs": [],
   "source": []
  }
 ],
 "metadata": {
  "kernelspec": {
   "display_name": "Python 3 (ipykernel)",
   "language": "python",
   "name": "python3"
  },
  "language_info": {
   "codemirror_mode": {
    "name": "ipython",
    "version": 3
   },
   "file_extension": ".py",
   "mimetype": "text/x-python",
   "name": "python",
   "nbconvert_exporter": "python",
   "pygments_lexer": "ipython3",
   "version": "3.9.5"
  }
 },
 "nbformat": 4,
 "nbformat_minor": 5
}
